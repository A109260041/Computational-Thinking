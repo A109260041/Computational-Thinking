{
  "nbformat": 4,
  "nbformat_minor": 0,
  "metadata": {
    "colab": {
      "name": "week12.ipynb",
      "provenance": [],
      "authorship_tag": "ABX9TyPbZJ34C3ByEztKbmMolhya",
      "include_colab_link": true
    },
    "kernelspec": {
      "name": "python3",
      "display_name": "Python 3"
    }
  },
  "cells": [
    {
      "cell_type": "markdown",
      "metadata": {
        "id": "view-in-github",
        "colab_type": "text"
      },
      "source": [
        "<a href=\"https://colab.research.google.com/github/A109260041/Computational-Thinking/blob/master/week12.ipynb\" target=\"_parent\"><img src=\"https://colab.research.google.com/assets/colab-badge.svg\" alt=\"Open In Colab\"/></a>"
      ]
    },
    {
      "cell_type": "markdown",
      "metadata": {
        "id": "W8GHS-Y7duAe"
      },
      "source": [
        "隨堂練習1:購物清單\n",
        "試著用串列列出你最喜愛的五樣東西，當成購物清單(shopping_list)"
      ]
    },
    {
      "cell_type": "code",
      "metadata": {
        "colab": {
          "base_uri": "https://localhost:8080/"
        },
        "id": "6a8XfoWgdrZI",
        "outputId": "4151fb04-d25b-4abc-85ca-2a98d7b137ff"
      },
      "source": [
        "#串列項目\n",
        "list5 = ['鞋子','衣服','麵包','草莓','雞蛋']\n",
        "print(list5)\n",
        "['鞋子','衣服','麵包','草莓','雞蛋'] \n",
        "\n",
        "##索引\n",
        "print(list5[0])\n",
        "\n",
        "##變更\n",
        "list5[1] = '衣服'\n",
        "print(list5)\n",
        "['鞋子','衣服','麵包','草莓','雞蛋']\n",
        "\n",
        "##切片\n",
        "print(list5[1:3])"
      ],
      "execution_count": 2,
      "outputs": [
        {
          "output_type": "stream",
          "text": [
            "['鞋子', '衣服', '麵包', '草莓', '雞蛋']\n",
            "鞋子\n",
            "['鞋子', '衣服', '麵包', '草莓', '雞蛋']\n",
            "['衣服', '麵包']\n"
          ],
          "name": "stdout"
        }
      ]
    },
    {
      "cell_type": "markdown",
      "metadata": {
        "id": "s92lUvrugSzz"
      },
      "source": [
        "隨堂練習2:NBA冠軍球隊的資訊\n"
      ]
    },
    {
      "cell_type": "code",
      "metadata": {
        "colab": {
          "base_uri": "https://localhost:8080/"
        },
        "id": "WmmYnTTlghEj",
        "outputId": "99962065-830d-41ab-d11c-26f71ef82ede"
      },
      "source": [
        "# NBA冠軍賽的六筆資訊\n",
        "season = \"1995-1996\"\n",
        "team = \"Chicago Bulls\"\n",
        "coach = \"Phil Jackson\"\n",
        "records = [72, 10]\n",
        "starting = [\"Ron Harper\", \"Michael Jordan\", \"ScottiePippen\", \"Dennis Rodman\", \"Luc Longley\"]\n",
        "champion = True\n",
        "\n",
        "# 變數best_NBA 賦值串列\n",
        "best_NBA = list((season, team, coach, records, starting,champion))\n",
        "# TypeError: list expected at most 1 arguments, got 6 (要有兩個小括號)\n",
        "print(best_NBA)\n",
        "['1995-1996', 'Chicago Bulls', 'Phil Jackson', [72, 10], ['RonHarper', 'Michael Jordan', 'Scottie Pippen', 'Dennis Rodman','Luc Longley'], True]\n",
        "print(type(best_NBA))\n",
        "# indexing 索引\n",
        "print(best_NBA[-2])\n",
        "['Ron Harper', 'Michael Jordan', 'Scottie Pippen', 'DennisRodman', 'Luc Longley']\n",
        "# slicing 切片\n",
        "print(best_NBA[1:4])\n",
        "['Chicago Bulls', 'Phil Jackson', [72, 10]]\n",
        "\n",
        "#球季\n",
        "print(season)\n",
        "#教練\n",
        "print(coach)\n",
        "#團隊\n",
        "print(team)"
      ],
      "execution_count": 8,
      "outputs": [
        {
          "output_type": "stream",
          "text": [
            "['1995-1996', 'Chicago Bulls', 'Phil Jackson', [72, 10], ['Ron Harper', 'Michael Jordan', 'ScottiePippen', 'Dennis Rodman', 'Luc Longley'], True]\n",
            "<class 'list'>\n",
            "['Ron Harper', 'Michael Jordan', 'ScottiePippen', 'Dennis Rodman', 'Luc Longley']\n",
            "['Chicago Bulls', 'Phil Jackson', [72, 10]]\n",
            "1995-1996\n",
            "Phil Jackson\n",
            "Chicago Bulls\n"
          ],
          "name": "stdout"
        }
      ]
    },
    {
      "cell_type": "code",
      "metadata": {
        "colab": {
          "base_uri": "https://localhost:8080/"
        },
        "id": "Tj9xrWSDsd3z",
        "outputId": "d860bf2e-decf-4689-8b6b-d99de2e3b231"
      },
      "source": [
        "# [0,1,2,3,4]\n",
        "a = range(5) # range(0,5,1)\n",
        "print(a)\n",
        "range(0, 5)\n",
        "print(a[0], a[1], a[2], a[3], a[4])\n",
        "# [2,3,4,5]\n",
        "b = range(2, 6) #range(2,6,1)\n",
        "print(b[0], b[1], b[2], b[3])\n",
        "# [2,5,8]\n",
        "c = range(2, 10, 3)\n",
        "print(c[0], c[1], c[2])\n",
        "# [10,8,6,4]\n",
        "d = range(10, 3, -2)\n",
        "print(d[0], d[1], d[2], d[3])"
      ],
      "execution_count": 12,
      "outputs": [
        {
          "output_type": "stream",
          "text": [
            "range(0, 5)\n",
            "0 1 2 3 4\n",
            "2 3 4 5\n",
            "2 5 8\n",
            "10 8 6 4\n"
          ],
          "name": "stdout"
        }
      ]
    },
    {
      "cell_type": "code",
      "metadata": {
        "id": "eA_QQwQ3upwb"
      },
      "source": [
        "#分組作業\n",
        "project_title = \"今天要步要一起吃早餐\" \n",
        "name_list = [\"林諭辰\",\"莊芷俞\",\"陳姵蓉\",\"陳瑾琦\",\"邱柏睿\",\"王冠仁\",\"劉宏望\"]\n",
        "number_list = \"41\",\"09\",\"63\",\"51\",\"47\",\"75\",\"65\"\n",
        "duty_list = \"提供菜單\", \"紀錄大家想吃的早猜\",\"打電話訂早餐\",\"去拿早餐\",\"提供菜單\", \"紀錄大家想吃的早猜\",\"打電話訂早餐\",\"去拿早餐\"\n",
        "load_list = \"10%,15%,15%,15%,15%,15%,15%\"\n",
        "final_project = list((project_title, name_list, number_list, duty_list, load_list))\n",
        " \n",
        "\n",
        "\n",
        "\n",
        "\n"
      ],
      "execution_count": 21,
      "outputs": []
    }
  ]
}