{
  "nbformat": 4,
  "nbformat_minor": 0,
  "metadata": {
    "colab": {
      "name": "林諭辰week9-1.ipynb",
      "provenance": [],
      "authorship_tag": "ABX9TyOF6BW3TKYhHjxbIA1frCBf",
      "include_colab_link": true
    },
    "kernelspec": {
      "name": "python3",
      "display_name": "Python 3"
    }
  },
  "cells": [
    {
      "cell_type": "markdown",
      "metadata": {
        "id": "view-in-github",
        "colab_type": "text"
      },
      "source": [
        "<a href=\"https://colab.research.google.com/github/A109260041/Computational-Thinking/blob/master/%E6%9E%97%E8%AB%AD%E8%BE%B0week9_1.ipynb\" target=\"_parent\"><img src=\"https://colab.research.google.com/assets/colab-badge.svg\" alt=\"Open In Colab\"/></a>"
      ]
    },
    {
      "cell_type": "code",
      "metadata": {
        "id": "vjonAfLSY8hm",
        "outputId": "564e7632-cd0c-4623-bbe4-d2668de2eef5",
        "colab": {
          "base_uri": "https://localhost:8080/"
        }
      },
      "source": [
        "# 變數賦值\n",
        "x=2\n",
        "y=5\n",
        "##等號的左邊有什麼規定\n",
        "##等號的右邊有什麼規定\n",
        "##等號可以做什麼\n",
        "\n",
        "#數字資料做運算\n",
        "##加減乘除 商數餘數次方\n",
        "##運算順序\n",
        "print(x+y)\n",
        "print(x-y)\n",
        "print(x*y)\n",
        "print(x/y)\n",
        "print(x//y)\n",
        "print(x%y)\n",
        "print(x**y)"
      ],
      "execution_count": 1,
      "outputs": [
        {
          "output_type": "stream",
          "text": [
            "7\n",
            "-3\n",
            "10\n",
            "0.4\n",
            "0\n",
            "2\n",
            "32\n"
          ],
          "name": "stdout"
        }
      ]
    },
    {
      "cell_type": "markdown",
      "metadata": {
        "id": "c7gacJsAaBFI"
      },
      "source": [
        "# 標準輸入輸出\n",
        "## input()函數\n",
        "## print()函數\n"
      ]
    },
    {
      "cell_type": "code",
      "metadata": {
        "id": "QflXYe2QZj1o",
        "outputId": "8060d484-522c-4893-822b-62fb871c2595",
        "colab": {
          "base_uri": "https://localhost:8080/",
          "height": 52
        }
      },
      "source": [
        " input()\n"
      ],
      "execution_count": 5,
      "outputs": [
        {
          "output_type": "stream",
          "text": [
            "3\n"
          ],
          "name": "stdout"
        },
        {
          "output_type": "execute_result",
          "data": {
            "application/vnd.google.colaboratory.intrinsic+json": {
              "type": "string"
            },
            "text/plain": [
              "'3'"
            ]
          },
          "metadata": {
            "tags": []
          },
          "execution_count": 5
        }
      ]
    },
    {
      "cell_type": "code",
      "metadata": {
        "id": "_0jB_RoUa4Qw",
        "outputId": "c8de71d3-723c-4b14-c59b-6deeab88e2a8",
        "colab": {
          "base_uri": "https://localhost:8080/",
          "height": 52
        }
      },
      "source": [
        "input(\"請輸入數字?\")\n"
      ],
      "execution_count": 6,
      "outputs": [
        {
          "output_type": "stream",
          "text": [
            "請輸入數字?3\n"
          ],
          "name": "stdout"
        },
        {
          "output_type": "execute_result",
          "data": {
            "application/vnd.google.colaboratory.intrinsic+json": {
              "type": "string"
            },
            "text/plain": [
              "'3'"
            ]
          },
          "metadata": {
            "tags": []
          },
          "execution_count": 6
        }
      ]
    },
    {
      "cell_type": "code",
      "metadata": {
        "id": "Saf69V3PbHMk",
        "outputId": "07f7f080-b2c2-46c3-87db-9e7d04d72faa",
        "colab": {
          "base_uri": "https://localhost:8080/"
        }
      },
      "source": [
        "x = input(\"請輸入數字?\")"
      ],
      "execution_count": 11,
      "outputs": [
        {
          "output_type": "stream",
          "text": [
            "請輸入數字?3\n"
          ],
          "name": "stdout"
        }
      ]
    },
    {
      "cell_type": "code",
      "metadata": {
        "id": "9YeVSl8cb0tb",
        "outputId": "bff42bdf-fe58-4988-8125-55c8b7e88e2c",
        "colab": {
          "base_uri": "https://localhost:8080/",
          "height": 35
        }
      },
      "source": [
        "x"
      ],
      "execution_count": 12,
      "outputs": [
        {
          "output_type": "execute_result",
          "data": {
            "application/vnd.google.colaboratory.intrinsic+json": {
              "type": "string"
            },
            "text/plain": [
              "'3'"
            ]
          },
          "metadata": {
            "tags": []
          },
          "execution_count": 12
        }
      ]
    },
    {
      "cell_type": "code",
      "metadata": {
        "id": "LW6ss9-ib6bn",
        "outputId": "afe28593-9b45-4004-dad6-49263d9909fd",
        "colab": {
          "base_uri": "https://localhost:8080/"
        }
      },
      "source": [
        "print(x)"
      ],
      "execution_count": 13,
      "outputs": [
        {
          "output_type": "stream",
          "text": [
            "3\n"
          ],
          "name": "stdout"
        }
      ]
    },
    {
      "cell_type": "code",
      "metadata": {
        "id": "ARrvMVi6cGia",
        "outputId": "6cf56935-5e8c-487d-c084-c0197f6c2a4a",
        "colab": {
          "base_uri": "https://localhost:8080/"
        }
      },
      "source": [
        "print(x, 2,\"python\")"
      ],
      "execution_count": 16,
      "outputs": [
        {
          "output_type": "stream",
          "text": [
            "3 2 python\n"
          ],
          "name": "stdout"
        }
      ]
    },
    {
      "cell_type": "code",
      "metadata": {
        "id": "uhkaH_qKdf5y",
        "outputId": "77ce2689-8dab-4c55-b6f0-cc394786c084",
        "colab": {
          "base_uri": "https://localhost:8080/"
        }
      },
      "source": [
        "x = input(\"請輸入上衣的數量?\")"
      ],
      "execution_count": 17,
      "outputs": [
        {
          "output_type": "stream",
          "text": [
            "請輸入上衣的數量?5\n"
          ],
          "name": "stdout"
        }
      ]
    },
    {
      "cell_type": "code",
      "metadata": {
        "id": "s4Q0d3Med8hN"
      },
      "source": [
        "x = int(x)"
      ],
      "execution_count": 18,
      "outputs": []
    },
    {
      "cell_type": "code",
      "metadata": {
        "id": "kNvN9tGXeVMS"
      },
      "source": [
        "Total = 300 * x"
      ],
      "execution_count": 19,
      "outputs": []
    },
    {
      "cell_type": "code",
      "metadata": {
        "id": "SUqzpB9Xecq0",
        "outputId": "ec0dc373-e929-4e07-d03c-8f49ae41b633",
        "colab": {
          "base_uri": "https://localhost:8080/"
        }
      },
      "source": [
        "print(Total)"
      ],
      "execution_count": 20,
      "outputs": [
        {
          "output_type": "stream",
          "text": [
            "1500\n"
          ],
          "name": "stdout"
        }
      ]
    },
    {
      "cell_type": "code",
      "metadata": {
        "id": "cRNJXmVQejVQ",
        "outputId": "7dca7966-24c5-4be7-b7ca-8af9e7da38ef",
        "colab": {
          "base_uri": "https://localhost:8080/"
        }
      },
      "source": [
        "X = int(input(\"請輸入上衣的數量\"))\n",
        "Y = int(input(\"輸入褲子的數量\"))\n",
        "Z = int(input(\"請輸入背心的數量\"))\n",
        "\n",
        "Total = 300*X + 350*Y + 400*Z\n",
        "\n",
        "print(\"訂購服裝的總金額為\", Total)\n"
      ],
      "execution_count": 31,
      "outputs": [
        {
          "output_type": "stream",
          "text": [
            "請輸入上衣的數量5\n",
            "輸入褲子的數量5\n",
            "請輸入背心的數量5\n",
            "訂購服裝的總金額為 5250\n"
          ],
          "name": "stdout"
        }
      ]
    },
    {
      "cell_type": "code",
      "metadata": {
        "id": "_dGIPg6jh2NC",
        "outputId": "ef60f38c-5964-47e5-9eca-8d5e69ae312e",
        "colab": {
          "base_uri": "https://localhost:8080/"
        }
      },
      "source": [
        "Cans = int(input(\"請輸入購買的飲料罐數\"))\n",
        "Total = (Cans//12)*200 + (Cans%12)*20\n",
        "print (\"需花費\",Total)"
      ],
      "execution_count": 33,
      "outputs": [
        {
          "output_type": "stream",
          "text": [
            "請輸入購買的飲料罐數30\n",
            "需花費 520\n"
          ],
          "name": "stdout"
        }
      ]
    },
    {
      "cell_type": "code",
      "metadata": {
        "id": "qSSNDfuFinE2",
        "outputId": "9ecbacd6-e4f4-4612-a039-dc5cdac52697",
        "colab": {
          "base_uri": "https://localhost:8080/"
        }
      },
      "source": [
        "first = int(input(\"請輸入第一次期中考成績? \"))\n",
        "second = int(input(\"請輸入第二次期中考成績? \"))\n",
        "final = int(input(\"請輸入期末考成績? \"))\n",
        "total = first + second +final\n",
        "average = total / 3\n",
        "print(\"總分為\", total, \"平均為\", average)"
      ],
      "execution_count": 35,
      "outputs": [
        {
          "output_type": "stream",
          "text": [
            "請輸入第一次期中考成績? 75\n",
            "請輸入第二次期中考成績? 80\n",
            "請輸入期末考成績? 65\n",
            "總分為 220 平均為 73.33333333333333\n"
          ],
          "name": "stdout"
        }
      ]
    }
  ]
}