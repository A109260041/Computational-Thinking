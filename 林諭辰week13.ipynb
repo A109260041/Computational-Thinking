{
  "nbformat": 4,
  "nbformat_minor": 0,
  "metadata": {
    "colab": {
      "name": "林諭辰week13.ipynb",
      "provenance": [],
      "authorship_tag": "ABX9TyMTJkuRJfcIfwYdJkD0YvQu",
      "include_colab_link": true
    },
    "kernelspec": {
      "name": "python3",
      "display_name": "Python 3"
    }
  },
  "cells": [
    {
      "cell_type": "markdown",
      "metadata": {
        "id": "view-in-github",
        "colab_type": "text"
      },
      "source": [
        "<a href=\"https://colab.research.google.com/github/A109260041/Computational-Thinking/blob/master/%E6%9E%97%E8%AB%AD%E8%BE%B0week13.ipynb\" target=\"_parent\"><img src=\"https://colab.research.google.com/assets/colab-badge.svg\" alt=\"Open In Colab\"/></a>"
      ]
    },
    {
      "cell_type": "code",
      "metadata": {
        "colab": {
          "base_uri": "https://localhost:8080/"
        },
        "id": "YoC162mYe6Z0",
        "outputId": "06231e25-92cb-4ea6-b2db-17badd1ca9c6"
      },
      "source": [
        "#list串列\r\n",
        "\r\n",
        "##數字串列\r\n",
        "##文字串列\r\n",
        "##混合串列\r\n",
        "list1 = [1,2,3,4,5]\r\n",
        "\r\n",
        "#索引切片\r\n",
        "\r\n",
        "list1[1] \r\n",
        "list1[1:4]\r\n",
        "\r\n",
        "#rang()\r\n",
        "\r\n",
        "\r\n",
        "\r\n",
        "for i in range(0,5,1):\r\n",
        "  print(\"Hello\")"
      ],
      "execution_count": 2,
      "outputs": [
        {
          "output_type": "stream",
          "text": [
            "Hello\n",
            "Hello\n",
            "Hello\n",
            "Hello\n",
            "Hello\n"
          ],
          "name": "stdout"
        }
      ]
    },
    {
      "cell_type": "code",
      "metadata": {
        "colab": {
          "base_uri": "https://localhost:8080/"
        },
        "id": "KmIQ0UGJkGcm",
        "outputId": "f9881479-6e2d-45e7-aaf0-ff990abff06e"
      },
      "source": [
        "#[0,1,2,3,4]\r\n",
        "for i in range(0,5,1):\r\n",
        "  print(i)\r\n",
        "\r\n",
        "#[2,4,6,8]  \r\n",
        "for i in range(2,10,2):\r\n",
        "  print(i)\r\n",
        "\r\n",
        "#[100,97,94,91]\r\n",
        "for i in range(100,90,-3):\r\n",
        "   print(i)"
      ],
      "execution_count": 18,
      "outputs": [
        {
          "output_type": "stream",
          "text": [
            "0\n",
            "1\n",
            "2\n",
            "3\n",
            "4\n",
            "2\n",
            "4\n",
            "6\n",
            "8\n",
            "100\n",
            "97\n",
            "94\n",
            "91\n"
          ],
          "name": "stdout"
        }
      ]
    },
    {
      "cell_type": "code",
      "metadata": {
        "colab": {
          "base_uri": "https://localhost:8080/"
        },
        "id": "YwWsjHDUnCvp",
        "outputId": "76faaa99-b2a1-4ea9-a78d-210e4145a491"
      },
      "source": [
        "#數字1到10之和\r\n",
        "## 1+2+3+4+5+6+7+8+9+10=?\r\n",
        "sum = 0\r\n",
        "for i in range(1,11,1):\r\n",
        "  sum = sum + i\r\n",
        "print(\"Total is\", sum)"
      ],
      "execution_count": 17,
      "outputs": [
        {
          "output_type": "stream",
          "text": [
            "Total is 55\n"
          ],
          "name": "stdout"
        }
      ]
    },
    {
      "cell_type": "code",
      "metadata": {
        "colab": {
          "base_uri": "https://localhost:8080/"
        },
        "id": "sfox0wtRqs82",
        "outputId": "221fd4b4-c72e-4cc9-99fb-69f7056c4d73"
      },
      "source": [
        "#數字1到10奇數之和\r\n",
        "##1+3+5+7+9 = ?\r\n",
        "sum = 0\r\n",
        "for i in range(1,11,2):\r\n",
        "  sum = sum + i\r\n",
        "print(\"Total is\", sum)\r\n"
      ],
      "execution_count": 16,
      "outputs": [
        {
          "output_type": "stream",
          "text": [
            "Total is 25\n"
          ],
          "name": "stdout"
        }
      ]
    },
    {
      "cell_type": "code",
      "metadata": {
        "colab": {
          "base_uri": "https://localhost:8080/"
        },
        "id": "UJxoPFAgrbO5",
        "outputId": "3c1a58a3-68fe-4a42-94eb-52bad6d5173e"
      },
      "source": [
        "#2+4+6+8+10 = ?\r\n",
        "sum = 0\r\n",
        "for i in range(2,11,2):\r\n",
        "  sum = sum + i\r\n",
        "print(\"Total is\",sum)"
      ],
      "execution_count": 20,
      "outputs": [
        {
          "output_type": "stream",
          "text": [
            "Total is 30\n"
          ],
          "name": "stdout"
        }
      ]
    },
    {
      "cell_type": "code",
      "metadata": {
        "colab": {
          "base_uri": "https://localhost:8080/"
        },
        "id": "fUwhyygwsFnr",
        "outputId": "5997554d-1735-435e-bf1a-c5238e1a0635"
      },
      "source": [
        "#3+6+9+12 = ?\r\n",
        "sum = 0\r\n",
        "for i in range(3,14,3):\r\n",
        "  sum = sum + i\r\n",
        "print(\"Total is\", sum)"
      ],
      "execution_count": 19,
      "outputs": [
        {
          "output_type": "stream",
          "text": [
            "Total is 30\n"
          ],
          "name": "stdout"
        }
      ]
    },
    {
      "cell_type": "code",
      "metadata": {
        "colab": {
          "base_uri": "https://localhost:8080/"
        },
        "id": "CNQw_NFpvz8_",
        "outputId": "0e0048fc-af3f-443d-c478-5d4fb703b8d4"
      },
      "source": [
        "#1^2 + 2^2 + 3^2 + ... + n^2 = ?\r\n",
        "n = int(input('請輸入n值?'))\r\n",
        "sum = 0\r\n",
        "for i in range(1,n+1):\r\n",
        "  sum = sum + i*i\r\n",
        "print(\"Total is\", sum)  "
      ],
      "execution_count": 27,
      "outputs": [
        {
          "output_type": "stream",
          "text": [
            "請輸入n值?5\n",
            "Total is 55\n"
          ],
          "name": "stdout"
        }
      ]
    },
    {
      "cell_type": "code",
      "metadata": {
        "colab": {
          "base_uri": "https://localhost:8080/"
        },
        "id": "_Bn_BnqDxUdg",
        "outputId": "4cd07915-e7f3-4ccc-bf79-bf82b505d347"
      },
      "source": [
        "start = int(input('請輸入加總開始值?'))\r\n",
        "end = int(input('請輸入加總終止值?'))\r\n",
        "step = int(input('請輸入遞增減值?'))\r\n",
        "sum = 0\r\n",
        "for i in range(start, end, step):\r\n",
        "  sum = sum + i\r\n",
        "print('i為', i, '時,累加結果為', sum)"
      ],
      "execution_count": 26,
      "outputs": [
        {
          "output_type": "stream",
          "text": [
            "請輸入加總開始值?2\n",
            "請輸入加總終止值?10\n",
            "請輸入遞增減值?2\n",
            "i為 8 時,累加結果為 20\n"
          ],
          "name": "stdout"
        }
      ]
    }
  ]
}