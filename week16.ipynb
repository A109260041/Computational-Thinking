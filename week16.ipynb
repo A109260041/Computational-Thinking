{
  "nbformat": 4,
  "nbformat_minor": 0,
  "metadata": {
    "colab": {
      "name": "week16.ipynb",
      "provenance": [],
      "authorship_tag": "ABX9TyOL7CRugufZwt3R7AJIJFoX",
      "include_colab_link": true
    },
    "kernelspec": {
      "name": "python3",
      "display_name": "Python 3"
    }
  },
  "cells": [
    {
      "cell_type": "markdown",
      "metadata": {
        "id": "view-in-github",
        "colab_type": "text"
      },
      "source": [
        "<a href=\"https://colab.research.google.com/github/A109260041/Computational-Thinking/blob/master/week16.ipynb\" target=\"_parent\"><img src=\"https://colab.research.google.com/assets/colab-badge.svg\" alt=\"Open In Colab\"/></a>"
      ]
    },
    {
      "cell_type": "code",
      "metadata": {
        "colab": {
          "base_uri": "https://localhost:8080/"
        },
        "id": "9IuhXD0Rorvm",
        "outputId": "b6706eda-d4b3-499b-90eb-4662e6755837"
      },
      "source": [
        "num_a = int(input(\"輸入第一個數字?\"))\r\n",
        "num_b = int(input(\"輸入第二個數字?\"))\r\n",
        "\r\n",
        "if num_a < 0:\r\n",
        "  print(\"第一個數字為負數\") \r\n",
        "  if num_b < 0:\r\n",
        "    print(\"第二個數字也是負數\")\r\n",
        "print(\"比較完成\")    \r\n"
      ],
      "execution_count": 2,
      "outputs": [
        {
          "output_type": "stream",
          "text": [
            "輸入第一個數字?-1\n",
            "輸入第二個數字?-7\n",
            "第一個數字為負數\n",
            "第二個數字也是負數\n",
            "比較完成\n"
          ],
          "name": "stdout"
        }
      ]
    },
    {
      "cell_type": "code",
      "metadata": {
        "colab": {
          "base_uri": "https://localhost:8080/"
        },
        "id": "mPiLkaHEraQD",
        "outputId": "efcaae26-17b6-463a-ee8f-1311c989ccd7"
      },
      "source": [
        "num_a = int(input(\"輸入第一個數字?\"))\r\n",
        "num_b = int(input(\"輸入第二個數字?\"))\r\n",
        "\r\n",
        "if num_a < 0:\r\n",
        "  print(\"第一個數字為負數\") \r\n",
        "  if num_b < 0:\r\n",
        "    print(\"第二個數字為負數\")\r\n",
        "print(\"比較完成\")\r\n"
      ],
      "execution_count": 3,
      "outputs": [
        {
          "output_type": "stream",
          "text": [
            "輸入第一個數字?-5\n",
            "輸入第二個數字?-8\n",
            "第一個數字為負數\n",
            "第二個數字為負數\n",
            "比較完成\n"
          ],
          "name": "stdout"
        }
      ]
    },
    {
      "cell_type": "code",
      "metadata": {
        "colab": {
          "base_uri": "https://localhost:8080/"
        },
        "id": "EZw2Sm79sgbt",
        "outputId": "2cd2199c-e25d-40c3-c010-bdc2419c0527"
      },
      "source": [
        "a = int(input(\"請輸入三角形邊長a長度為?\"))\r\n",
        "b = int(input(\"請輸入三角形邊長b長度為?\"))\r\n",
        "c = int(input(\"請輸入三角形邊長c長度為?\"))\r\n",
        "if (a<b+c)and(b<a+c)and(c<a+b):\r\n",
        "  print(\"可構成三角形\")\r\n",
        "else:\r\n",
        "  print(\"無法構成三角形\")  "
      ],
      "execution_count": 5,
      "outputs": [
        {
          "output_type": "stream",
          "text": [
            "請輸入三角形邊長a長度為?5\n",
            "請輸入三角形邊長b長度為?8\n",
            "請輸入三角形邊長c長度為?9\n",
            "可構成三角形\n"
          ],
          "name": "stdout"
        }
      ]
    }
  ]
}