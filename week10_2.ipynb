{
  "nbformat": 4,
  "nbformat_minor": 0,
  "metadata": {
    "colab": {
      "name": "week10-2",
      "provenance": [],
      "authorship_tag": "ABX9TyMWLOzrcSa//6+soCWLpSG/",
      "include_colab_link": true
    },
    "kernelspec": {
      "name": "python3",
      "display_name": "Python 3"
    }
  },
  "cells": [
    {
      "cell_type": "markdown",
      "metadata": {
        "id": "view-in-github",
        "colab_type": "text"
      },
      "source": [
        "<a href=\"https://colab.research.google.com/github/A109260041/Computational-Thinking/blob/master/week10_2.ipynb\" target=\"_parent\"><img src=\"https://colab.research.google.com/assets/colab-badge.svg\" alt=\"Open In Colab\"/></a>"
      ]
    },
    {
      "cell_type": "code",
      "metadata": {
        "colab": {
          "base_uri": "https://localhost:8080/"
        },
        "id": "kUZtQHHvdPu8",
        "outputId": "1d4886b8-9dfe-4db3-b785-38555581f5f4"
      },
      "source": [
        "# Input Date\n",
        "time = 123\n",
        "\n",
        "#Process\n",
        "hour = time // 60 # 廠商\n",
        "minute = time % 60 # 餘數\n",
        "\n",
        "#output\n",
        "\n",
        "print(time,\"是\",hour,\"小時\",minute,\"分鐘\")\n",
        "\n",
        "##Process\n",
        "\n",
        "hour1 = int(time / 60)#除法與整數\n",
        "minute1 = ((time/60)- hour1)*60\n",
        "import math\n",
        "minute1 = round(minute1)\n",
        "\n",
        "print(time,\"是\",hour1,\"小時\",minute1,\"分鐘\")\n",
        "\n"
      ],
      "execution_count": 6,
      "outputs": [
        {
          "output_type": "stream",
          "text": [
            "123 是 2 小時 3 分鐘\n",
            "123 是 2 小時 3 分鐘\n"
          ],
          "name": "stdout"
        }
      ]
    },
    {
      "cell_type": "code",
      "metadata": {
        "id": "MrPA7nDNqHOW"
      },
      "source": [
        ""
      ],
      "execution_count": null,
      "outputs": []
    },
    {
      "cell_type": "code",
      "metadata": {
        "colab": {
          "base_uri": "https://localhost:8080/"
        },
        "id": "yVXMF4LzkWsZ",
        "outputId": "50ac0cf9-470d-4765-e3ac-1913a4b07da9"
      },
      "source": [
        "# Input Number\n",
        "number = X =int(input(\"請輸入人數\"))\n",
        "  \n",
        "#Process\n",
        "group = (number+4) // 5 #商數\n",
        "\n",
        "#output\n",
        "\n",
        "print(number,\"人數\",group,\"組別\")\n",
        "\n",
        "##Process\n",
        "group = int((number+4) // 5)#除法與整數\n",
        "\n",
        "\n"
      ],
      "execution_count": 20,
      "outputs": [
        {
          "output_type": "stream",
          "text": [
            "請輸入人數19\n",
            "19 人數 4 組別\n"
          ],
          "name": "stdout"
        }
      ]
    }
  ]
}