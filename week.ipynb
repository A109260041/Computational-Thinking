{
  "nbformat": 4,
  "nbformat_minor": 0,
  "metadata": {
    "colab": {
      "name": "week.ipynb",
      "provenance": [],
      "authorship_tag": "ABX9TyMv7E3ewWGmk3q3jD7FR2nk",
      "include_colab_link": true
    },
    "kernelspec": {
      "name": "python3",
      "display_name": "Python 3"
    }
  },
  "cells": [
    {
      "cell_type": "markdown",
      "metadata": {
        "id": "view-in-github",
        "colab_type": "text"
      },
      "source": [
        "<a href=\"https://colab.research.google.com/github/A109260041/Computational-Thinking/blob/master/week.ipynb\" target=\"_parent\"><img src=\"https://colab.research.google.com/assets/colab-badge.svg\" alt=\"Open In Colab\"/></a>"
      ]
    },
    {
      "cell_type": "code",
      "metadata": {
        "colab": {
          "base_uri": "https://localhost:8080/"
        },
        "id": "jsfyTwLLujYg",
        "outputId": "7ca27354-2c6e-4e55-e76b-53cb71b462c2"
      },
      "source": [
        "## Input:give me a number\r\n",
        "# number = 25\r\n",
        "\r\n",
        "number = input(\"Give me a number:\")\r\n",
        "number = int (number)\r\n",
        "\r\n",
        "\r\n",
        "condition = number%2\r\n",
        "if condition ==0:\r\n",
        "  print(\"This number is an even number\")\r\n",
        "else:\r\n",
        "  print(\"This number is an odd number\")  "
      ],
      "execution_count": 1,
      "outputs": [
        {
          "output_type": "stream",
          "text": [
            "Give me a number:25\n",
            "This number is an odd number\n"
          ],
          "name": "stdout"
        }
      ]
    },
    {
      "cell_type": "code",
      "metadata": {
        "colab": {
          "base_uri": "https://localhost:8080/"
        },
        "id": "IZEJWW-twJzM",
        "outputId": "6faf51be-a969-45f9-ad5b-065d30dce09f"
      },
      "source": [
        "year = int(input('請輸入年份?'))\r\n",
        "if ((year % 400) == 0):\r\n",
        "  print(year, \"是閏年\")\r\n",
        "elif ((year % 100) == 0):\r\n",
        "  print(year, \"不是閏年\")   \r\n",
        "elif ((year % 4) == 0): \r\n",
        "  print(year, \"是閏年\")\r\n",
        "else:\r\n",
        "  print(year, \"不是閏年\")   "
      ],
      "execution_count": 2,
      "outputs": [
        {
          "output_type": "stream",
          "text": [
            "請輸入年份?2002\n",
            "2002 不是閏年\n"
          ],
          "name": "stdout"
        }
      ]
    },
    {
      "cell_type": "code",
      "metadata": {
        "colab": {
          "base_uri": "https://localhost:8080/"
        },
        "id": "QDbzRI0Cxoni",
        "outputId": "567ed022-6a8f-48cf-b20c-7d7cabc09c11"
      },
      "source": [
        "# 方法(一):單向選擇\r\n",
        "score = int(input('請輸入一個成績?'))\r\n",
        "if score >= 80:\r\n",
        "  print('非常好')\r\n",
        "if 80 > score >= 60: #前面要有80>才行\r\n",
        "  print('不錯喔')\r\n",
        "if score < 60:\r\n",
        "  print('要加油')\r\n",
        "# 方法(二):多向選擇\r\n",
        "score = int(input('請輸入一個成績?'))\r\n",
        "if score >= 80:\r\n",
        "  print('非常好')\r\n",
        "elif score >= 60:\r\n",
        "  print('不錯喔')\r\n",
        "else:\r\n",
        "  print('要加油')\r\n",
        "# 方法(三):雙向選擇+巢狀選擇\r\n",
        "score = int(input('請輸入一個成績?'))\r\n",
        "if score >= 80:\r\n",
        "  print('非常好')\r\n",
        "else:\r\n",
        "  if score >= 60:\r\n",
        "    print('不錯喔')\r\n",
        "  else:\r\n",
        "    print('要加油')"
      ],
      "execution_count": 4,
      "outputs": [
        {
          "output_type": "stream",
          "text": [
            "請輸入一個成績?20\n",
            "要加油\n",
            "請輸入一個成績?100\n",
            "非常好\n",
            "請輸入一個成績?60\n",
            "不錯喔\n"
          ],
          "name": "stdout"
        }
      ]
    }
  ]
}