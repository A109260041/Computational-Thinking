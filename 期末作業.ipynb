{
  "nbformat": 4,
  "nbformat_minor": 0,
  "metadata": {
    "colab": {
      "name": "期末作業.ipynb",
      "provenance": [],
      "authorship_tag": "ABX9TyNK4mdiAvG2yHHqg0F8SlJn",
      "include_colab_link": true
    },
    "kernelspec": {
      "name": "python3",
      "display_name": "Python 3"
    }
  },
  "cells": [
    {
      "cell_type": "markdown",
      "metadata": {
        "id": "view-in-github",
        "colab_type": "text"
      },
      "source": [
        "<a href=\"https://colab.research.google.com/github/A109260041/Computational-Thinking/blob/master/%E6%9C%9F%E6%9C%AB%E4%BD%9C%E6%A5%AD.ipynb\" target=\"_parent\"><img src=\"https://colab.research.google.com/assets/colab-badge.svg\" alt=\"Open In Colab\"/></a>"
      ]
    },
    {
      "cell_type": "code",
      "metadata": {
        "colab": {
          "base_uri": "https://localhost:8080/"
        },
        "id": "NBmLg-ccz7aL",
        "outputId": "2bc72556-63d9-4ece-fe8d-af36844ca4e8"
      },
      "source": [
        "#早餐吃什麼\r\n",
        "time = input(\"現在幾點了?我好餓喔!\")\r\n",
        "time = input(\"請問一下我們幾點要去吃早餐呢\")\r\n",
        "print(\"時間快到了，我們趕快去吃早餐吧!\")\r\n",
        "print(\"好!我們去吃早餐囉!\")\r\n",
        "\r\n",
        "where = input(\"那我們那現在要去哪裡吃飯?\")\r\n",
        "print(\"哇!好啊好啊，我們好久沒去那裡吃飯!\")\r\n",
        "lesson = input(\"不過我們今天有要上什麼課嗎?這樣會不會遲到啊?\")\r\n",
        "print(\"放心吧!我們下午一點才要上課呢!\")\r\n"
      ],
      "execution_count": 13,
      "outputs": [
        {
          "output_type": "stream",
          "text": [
            "現在幾點了?我好餓喔!7:45\n",
            "請問一下我們幾點要去吃早餐呢8:00\n",
            "時間快到了，我們趕快去吃早餐吧!\n",
            "好!我們去吃早餐囉!\n",
            "那我們那現在要去哪裡吃飯?拉亞\n",
            "哇!好啊好啊，我們好久沒去那裡吃飯!\n",
            "不過我們今天有要上什麼課嗎?這樣會不會遲到啊?會計課\n",
            "放心吧!我們下午一點才要上課呢!\n"
          ],
          "name": "stdout"
        }
      ]
    }
  ]
}