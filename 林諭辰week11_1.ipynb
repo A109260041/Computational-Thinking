{
  "nbformat": 4,
  "nbformat_minor": 0,
  "metadata": {
    "colab": {
      "name": "林諭辰week11.1.ipynb",
      "provenance": [],
      "authorship_tag": "ABX9TyOwXoYbPk00GfK8iJ++hpZC",
      "include_colab_link": true
    },
    "kernelspec": {
      "name": "python3",
      "display_name": "Python 3"
    }
  },
  "cells": [
    {
      "cell_type": "markdown",
      "metadata": {
        "id": "view-in-github",
        "colab_type": "text"
      },
      "source": [
        "<a href=\"https://colab.research.google.com/github/A109260041/Computational-Thinking/blob/master/%E6%9E%97%E8%AB%AD%E8%BE%B0week11_1.ipynb\" target=\"_parent\"><img src=\"https://colab.research.google.com/assets/colab-badge.svg\" alt=\"Open In Colab\"/></a>"
      ]
    },
    {
      "cell_type": "code",
      "metadata": {
        "colab": {
          "base_uri": "https://localhost:8080/"
        },
        "id": "V4YbCtQjaLWd",
        "outputId": "170cb76a-b655-483f-8320-784d2d3d4e5f"
      },
      "source": [
        "# 商數餘數\n",
        "## Input\n",
        "seat = int(input(\"Enter a seat number?\"))\n",
        "## Process\n",
        "group = (seat - 1) // 5 + 1\n",
        "## Output\n",
        "print(\"Group is\", group)"
      ],
      "execution_count": 3,
      "outputs": [
        {
          "output_type": "stream",
          "text": [
            "Enter a seat number?19\n",
            "Group is 4\n"
          ],
          "name": "stdout"
        }
      ]
    },
    {
      "cell_type": "code",
      "metadata": {
        "colab": {
          "base_uri": "https://localhost:8080/"
        },
        "id": "vGH6aSJCbxds",
        "outputId": "4dd16ae3-aa3f-48df-8f0b-c68cee4eac35"
      },
      "source": [
        "# 四捨五入 無條件進位\n",
        "import math\n",
        "## Input\n",
        "seat = int(input(\"Enter a seat number?\"))\n",
        "\n",
        "## Process\n",
        "group = math.ceil(seat/5)\n",
        "\n",
        "## Output\n",
        "print(\"Group is\", group)"
      ],
      "execution_count": 4,
      "outputs": [
        {
          "output_type": "stream",
          "text": [
            "Enter a seat number?19\n",
            "Group is 4\n"
          ],
          "name": "stdout"
        }
      ]
    },
    {
      "cell_type": "code",
      "metadata": {
        "colab": {
          "base_uri": "https://localhost:8080/"
        },
        "id": "Sje3XLuDd-Rt",
        "outputId": "660a6070-ba5c-42a0-9aef-e9a65ed63d11"
      },
      "source": [
        "# 方法(三) : 看餘數, 用條件句\n",
        "number = int(input(\"Enter a number? \"))\n",
        "if number%5 == 0:\n",
        "    print(\"Group is \", number//5)\n",
        "else:\n",
        "    print(\"Group is \", number//5 +1)           "
      ],
      "execution_count": 5,
      "outputs": [
        {
          "output_type": "stream",
          "text": [
            "Enter a number? 19 \n",
            "Group is  4\n"
          ],
          "name": "stdout"
        }
      ]
    },
    {
      "cell_type": "code",
      "metadata": {
        "colab": {
          "base_uri": "https://localhost:8080/"
        },
        "id": "qI1pztqAfD0W",
        "outputId": "32da38c8-2ba4-4556-fcfc-0987a64b3617"
      },
      "source": [
        "# 聊天機器人自我介紹\n",
        "print(\"哈囉,大家好。我叫Zyxo64,是一個聊天機器人。\")\n",
        "hobby = \"我很喜歡美食東西,也喜歡養動物。今天很高興有機會來到世新大學,請大家多多指教。\"\n",
        "print( hobby )\n",
        "# 打招呼,取得對方名字\n",
        "name = input(\"嗨!妳好,請問大名?: \")\n",
        "print(\"我叫\", name)\n",
        "print(\"你好\", name, \"很高興認識你\")"
      ],
      "execution_count": 26,
      "outputs": [
        {
          "output_type": "stream",
          "text": [
            "哈囉,大家好。我叫Zyxo64,是一個聊天機器人。\n",
            "我很喜歡美食東西,也喜歡養動物。今天很高興有機會來到世新大學,請大家多多指教。\n",
            "嗨!妳好,請問大名?: 林諭辰\n",
            "我叫 林諭辰\n",
            "你好 林諭辰 很高興認識你\n"
          ],
          "name": "stdout"
        }
      ]
    },
    {
      "cell_type": "code",
      "metadata": {
        "colab": {
          "base_uri": "https://localhost:8080/"
        },
        "id": "0llaD34-oeVC",
        "outputId": "5dce2e8c-e13d-440c-8aa2-049eff30df6a"
      },
      "source": [
        "# 從使用者取得今年年份\n",
        "year = input(\"請問一下今年是西元2020年,那是民國幾年呢? \")\n",
        "print(\"對!應該沒錯,謝謝妳!\")\n",
        "# 請使用者猜年齡\n",
        "myage = int(input(\"再猜猜看我今年幾歲? \"))\n",
        "print(\"哇!你好聰明,我今年的確\", myage)\n",
        "# 計算聊天機器人滿100歲的年份\n",
        "nyears = 100 - myage\n",
        "print(\"我再\", nyears, \"年就滿100歲了。\")\n",
        "print(\"到時候是西元\", int(year) + nyears + 1911, \"年\") # 將今年年份轉換為整數"
      ],
      "execution_count": 20,
      "outputs": [
        {
          "output_type": "stream",
          "text": [
            "請問一下今年是西元2020年,那是民國幾年呢? 109\n",
            "對!應該沒錯,謝謝妳!\n",
            "再猜猜看我今年幾歲? 26\n",
            "哇!你好聰明,我今年的確 26\n",
            "我再 74 年就滿100歲了。\n",
            "到時候是西元 2094 年\n"
          ],
          "name": "stdout"
        }
      ]
    },
    {
      "cell_type": "code",
      "metadata": {
        "colab": {
          "base_uri": "https://localhost:8080/"
        },
        "id": "LRmUhwXHkzWW",
        "outputId": "1b94e6d2-7553-4e76-a264-43a949f93fc3"
      },
      "source": [
        "print(\"我喜歡巧克力，也喜歡嘗試各種新食物。\")\n",
        "food = input(\"你呢。你最喜歡的食物是什麼?: \")\n",
        "print(\"我也喜歡\", food)\n",
        "question = \"你多久吃一次\" + food + \"?: \"\n",
        "howoften = input(question)\n",
        "print(\"真有趣。不知道這樣對健康好不好!\")\n"
      ],
      "execution_count": 16,
      "outputs": [
        {
          "output_type": "stream",
          "text": [
            "我喜歡巧克力，也喜歡嘗試各種新食物。\n",
            "你呢。你最喜歡的食物是什麼?: pizza\n",
            "我也喜歡 pizza\n",
            "你多久吃一次pizza?: everyday\n",
            "真有趣。不知道這樣對健康好不好!\n"
          ],
          "name": "stdout"
        }
      ]
    },
    {
      "cell_type": "code",
      "metadata": {
        "colab": {
          "base_uri": "https://localhost:8080/"
        },
        "id": "XRFgJ9menAAp",
        "outputId": "8ff5de35-ec9f-4a62-b8af-06515728328e"
      },
      "source": [
        "animal = input(\"我最喜歡的動物是長頸鹿。你呢?: \")\n",
        "print(\"我不喜歡\", animal)\n",
        "print(\"不知道\", animal, \"喜不喜歡吃\", food, \"?\")"
      ],
      "execution_count": 17,
      "outputs": [
        {
          "output_type": "stream",
          "text": [
            "我最喜歡的動物是長頸鹿。你呢?: turtle\n",
            "我不喜歡 turtle\n",
            "不知道 turtle 喜不喜歡吃 pizza ?\n"
          ],
          "name": "stdout"
        }
      ]
    },
    {
      "cell_type": "code",
      "metadata": {
        "colab": {
          "base_uri": "https://localhost:8080/"
        },
        "id": "Pnb8IOYwnsc1",
        "outputId": "037f4e98-798a-4142-dcb9-3c8b0f96d6f3"
      },
      "source": [
        "# 關於心情的對話\n",
        "feeling = input(\"你今天心情如何?; \")\n",
        "print(\"告訴我你現在\", feeling, \"的原因。 \")\n",
        "reason = input(\"為什麼: \")\n",
        "print(\"我知道了。謝謝分享。\")"
      ],
      "execution_count": 18,
      "outputs": [
        {
          "output_type": "stream",
          "text": [
            "你今天心情如何?; happy\n",
            "告訴我你現在 happy 的原因。 \n",
            "為什麼: weekend\n",
            "我知道了。謝謝分享。\n"
          ],
          "name": "stdout"
        }
      ]
    }
  ]
}