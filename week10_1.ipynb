{
  "nbformat": 4,
  "nbformat_minor": 0,
  "metadata": {
    "colab": {
      "name": "week10-1",
      "provenance": [],
      "authorship_tag": "ABX9TyOD71UrbOekXiPw4hydkEZZ",
      "include_colab_link": true
    },
    "kernelspec": {
      "name": "python3",
      "display_name": "Python 3"
    }
  },
  "cells": [
    {
      "cell_type": "markdown",
      "metadata": {
        "id": "view-in-github",
        "colab_type": "text"
      },
      "source": [
        "<a href=\"https://colab.research.google.com/github/A109260041/Computational-Thinking/blob/master/week10_1.ipynb\" target=\"_parent\"><img src=\"https://colab.research.google.com/assets/colab-badge.svg\" alt=\"Open In Colab\"/></a>"
      ]
    },
    {
      "cell_type": "code",
      "metadata": {
        "colab": {
          "base_uri": "https://localhost:8080/"
        },
        "id": "X3DXRJGeQ-hz",
        "outputId": "300d8bc1-b1bf-4984-ecbb-a270a15b00f7"
      },
      "source": [
        "# 寫程式是怎麼一回事\n",
        "\n",
        "## Question: [后翼棄兵]那部電影值不值得看?老闆想瞭解一下那部電影的相關資訊\n",
        "\n",
        "#step1:上網找 哪裡找 找什麼 如何回覆\n",
        "##從IMBD電影資料庫找出要記錄的后翼棄兵電影相關訊\n",
        "##網址:https://www.imdb.com/title/tt10048342/?ref_=hm_fanfav_tt_1_pd_fp1\n",
        "##相關資訊:電影名稱、上映日期......\n",
        "\n",
        "#step2: Input-Process-Output\n",
        "\n",
        "## 輸入資料\n",
        "## 處裡\n",
        "## 輸出資料\n",
        "\n",
        "#step3: Coding\n",
        "\n",
        "movie_title = \"The Queen's Gambit\" \n",
        "release_year = \"2020\"\n",
        "heroine = \"Anya Taylor-Joy\"\n",
        "creator = \"Scott Frank\"\n",
        "movie_type = \"Drama\"\n",
        "\n",
        "print(\"電影英文名稱\",movie_title)\n",
        "print(\"上映時間\",release_year)\n",
        "print(\"女主角\",heroine)\n",
        "print(\"導演\",creator)\n",
        "print(\"電影類型\",movie_type)\n"
      ],
      "execution_count": 3,
      "outputs": [
        {
          "output_type": "stream",
          "text": [
            "電影英文名稱 The Queen's Gambit\n",
            "上映時間 2020\n",
            "女主角 Anya Taylor-Joy\n",
            "導演 Scott Frank\n",
            "電影類型 Drama\n"
          ],
          "name": "stdout"
        }
      ]
    }
  ]
}